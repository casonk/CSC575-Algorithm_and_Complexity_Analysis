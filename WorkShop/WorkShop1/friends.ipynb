{
 "cells": [
  {
   "attachments": {},
   "cell_type": "markdown",
   "metadata": {},
   "source": [
    "# The video is available on [YouTube](https://youtu.be/7ld8Lw43ilU)"
   ]
  },
  {
   "cell_type": "code",
   "execution_count": 1,
   "metadata": {},
   "outputs": [],
   "source": [
    "import numpy as np"
   ]
  },
  {
   "cell_type": "code",
   "execution_count": 2,
   "metadata": {},
   "outputs": [],
   "source": [
    "def initalize(num_people, case):                                                    #| synthetic meetup function                                                                                     |                 \n",
    "    people = ['p{}'.format(n) for n in range(0,num_people)]                         #| create a list of people, `pn,' for n number of people                                                         |                    \n",
    "    if case == 'best':                                                              #| best case                                                                                                     |          \n",
    "        friendliness = [1,1] + [np.random.randint(2) for n in range(2,num_people)]  #| for best case set the first two people as friendly and all others randomly                                    |         \n",
    "    if case == 'average':                                                           #| average case                                                                                                  |    \n",
    "        friendliness = [np.random.randint(2) for n in range(0,num_people)]          #| for the average case set all friendliness scores randomly                                                     |                    \n",
    "    if case == 'worst':                                                             #| worst case                                                                                                    |        \n",
    "        friendliness = [0 for n in range(0,num_people)]                             #| for the worst case set all people as unfriendly                                                               |                     \n",
    "    meetup = {}                                                                     #| create an empty dictionary called meetup                                                                      |         \n",
    "    for i in range(0, len(people)):                                                 #| for each person in people                                                                                     |    \n",
    "        for j in range(i+1, len(people)):                                           #| for each person in people but the one previously selected                                                     |    \n",
    "            meetup[people[i], people[j]] = (friendliness[i] & friendliness[j])      #| set the value for the meetup dictionary keyed on the two people as the bitwise or of their friendliness score |   \n",
    "    print('person, friendliness:', [pf for pf in zip(people, friendliness)])        #| print out a list of tuples containing pairs of all people anf their friendliness scores                       | \n",
    "    print('meetup map:', meetup)                                                    #| print out the dictionary meetup containing the synthetic values for whether two people get along              |    \n",
    "    return people, meetup                                                           #| return your list of people and the synthetic meetup function for use in the frindly_sort algorithm            |"
   ]
  },
  {
   "cell_type": "code",
   "execution_count": 3,
   "metadata": {},
   "outputs": [],
   "source": [
    "def friendly_sort(num_people, case):               #| let n = num_people (case for exs.)                   Time Complexity          Space Complexity      |\n",
    "    if num_people <= 0:                            #|                                                      ~~~~~~~~~~~~~~~          ~~~~~~~~~~~~~~~~      |\n",
    "        return []                                  #| return empty list if input is invalid              ~~~~~~~~~~~~~~~~~~~      ~~~~~~~~~~~~~~~~~~~~    |\n",
    "    # initialization                               #|-----------------------------------------------------------------------------------------------------|\n",
    "    people, meetup = initalize(num_people, case)   #| set people and meetup, given inputs             |     % not part of algo |     % not part of algo   |\n",
    "    if num_people == 1:                            #| limited case                                    |  1  % O(1)             |  1  % O(1)               |\n",
    "        return people                              #| return people                                   | *2  % O(1)             | *1  % O(1) ** Return **  |\n",
    "    unfriendly = []                                #| initialize unfriendly list                      |  2  % O(1)             |  2  % O(1)               |\n",
    "    friendly = []                                  #| initialize friendly list                        |  3  % O(1)             |  3  % O(1)               |\n",
    "    # discover if more than 1 people are friendly  #|-------------------------------------------------+------------------------+--------------------------|\n",
    "    while ((len(friendly) < 1)):                   #| itter until one friendly found                  | $1  % O(n)             |  4  % O(1)               |\n",
    "        person_1 = people.pop(0)                   #| pop first person into person_1                  | $2  % O(n)             |  5  % O(1)               |\n",
    "        friendliness = 0                           #| initialize person_1 as unfriendly               | $3  % O(n)             |  6  % O(1)               |\n",
    "        i = 0                                      #| index of person_2                               | $4  % O(n)             |  7  % O(1)               |\n",
    "        for person_2 in people:                    #| itter all people other than person_1            | &1  % O(n^2)           |  8  % O(1)               |\n",
    "            if meetup[person_1, person_2]:         #| check if both person_(1,2) are friendly         | &2  % O(n^2)           |  9  % O(1)               |\n",
    "                friendly += [person_1]             #| add person_1 to friendly list                   |  4  % O(1)             |  10 % O(1)               |\n",
    "                friendly += [person_2]             #| add person_2 to friendly list                   |  5  % O(1)             |  11 % O(1)               |\n",
    "                people.pop(i)                      #| remove person_2 from people                     |  6  % O(1)             |  12 % O(1)               |\n",
    "                friendliness = 1                   #| set friendly                                    |  7  % O(1)             |  13 % O(1)               |\n",
    "                break                              #| escape loop                                     |  8  % O(1)             |  14 % O(1)               |\n",
    "            i += 1                                 #| increment index of person_2                     | &3  % O(n^2)           |  15 % O(1)               |\n",
    "        if not friendliness:                       #| check if person_1 is still set as unfriendly    | $5  % O(n)             |  16 % O(1)               |\n",
    "            unfriendly += [person_1]               #| add person_1 to unfriendly list                 | $6  % O(n)             | &1  % O(n)               |\n",
    "        if len(people) == 0:                       #| check if all are sorted as unfriendly           |  9  % O(n)             |  17 % O(1)               |\n",
    "            break                                  #| escape infinite loop                            |  10 % O(1)             |  18 % O(1)               |\n",
    "    # sort all remaining people                    #|-------------------------------------------------+------------------------+--------------------------|\n",
    "    while len(people) > 0:                         #| while not all people are sorted                 | $7  % O(n)             |  19 % O(1)               |\n",
    "        person = people.pop(0)                     #| pop first unsorted person                       | $8  % O(n)             |  20 % O(1)               |\n",
    "        if meetup[friendly[0], person]:            #| check if person is friendly with known friendly | $9  % O(n)             |  21 % O(1)               |\n",
    "            friendly += [person]                   #| add friendly person to friendly list            | $10 % O(n)             | &2  % O(n)               |\n",
    "        else:                                      #| otherwise person is know to be unfriendly       | $11 % O(n)             |  22 % O(1)               |\n",
    "            unfriendly += [person]                 #| add unfriendly person to unfriendly list        | $12 % O(n)             | &3  % O(n)               |\n",
    "    print('\\n Sorting:')                           #|-------------------------------------------------+------------------------+--------------------------|\n",
    "    sorted_list = unfriendly + friendly            #| make sorted_list unfriendly to friendly         |  11 % O(1)             | &4  % O(n) ** Return **  |\n",
    "    return sorted_list                             #| return sorted_list                              |  12 % O(1)             |  23 % O(1) ** Return **  |\n",
    "                                                   #|-----------------------------------------------------------------------------------------------------| "
   ]
  },
  {
   "attachments": {},
   "cell_type": "markdown",
   "metadata": {},
   "source": [
    "----\n",
    "# `Loop Invariant 1` : lines 15-22 : `for` loop.\n",
    "\n",
    "## At the start of each iteration of the `for` loop from lines 15-22, `people` contains all unsorted people, except `person_1` who is being sorted, the list `unfriendly` contains all sorted unfriendly people, and the list `friendly` contains all sorted friendly people.\n",
    "\n",
    "## **Initialization:** Starting from `n = num_people = len(people) >= 2`, we have a list of `n-1` unsorted people, `person_1` being actively sorted, and empty lists `unfriendly` and `friendly`. Thus the invariant holds prior to the first iteration of the loop.\n",
    "\n",
    "## **Maintenance (Known Friendly):** Within the loop, we check if `person_1` gets along with the next person in `people`, `person_2`. If they get along, we add both `person_1` and `person_2` to `friendly`, remove `person_2` from `people`, and set the indicator variable `friendliness` to `1`, lastly terminating the loop. As a result, `people` contains all unsorted people and `friendly` contains all sorted friendly people, last `unfriendly` is unchanged and thus the invariant holds. \n",
    "\n",
    "## **Maintenance (Unknown Friendly):** Consider now if `person_1` does not get along with the next person in `people`, `person_2`. Here we precede to to increment the indexer, `i`, for `person_2` by `1`, and consider the next person in `people`. All lists `people`, `unfriendly`, and `friendly` are unchanged, thus the invariant holds. \n",
    "\n",
    "## **Termination (Known Friendly):** This termination is a special case of maintenance, shown invariant above.\n",
    "\n",
    "## **Termination (Unknown Friendly):** In the case no people are found to get along, the loop terminates upon checking if the `person_1` gets along with the last person in `people`. Upon termination all variables are unchanged as in the unknown friendly maintenance case, and thus the invariant holds. \n",
    "\n",
    "## **Note:** After each iteration of this loop, in the case of a known friendly, `2` additional people are sorted, and in the case of the unknown friendly none are sorted.\n",
    "\n",
    "----"
   ]
  },
  {
   "attachments": {},
   "cell_type": "markdown",
   "metadata": {},
   "source": [
    "# `Loop Invariant 2` : lines 11-26 : `while` loop.\n",
    "\n",
    "## At the start of each iteration of the `while` loop from lines 11-26, `people` contains all unsorted people, `unfriendly` contains all sorted unfriendly people, and `friendly` contains all sorted friendly people.\n",
    "\n",
    "## **Initialization:** Starting from `n = num_people = len(people) >= 2`, we have a list of `n` unsorted people, and empty lists `unfriendly` and `friendly`. Thus the invariant holds prior to the first iteration of the loop.\n",
    "\n",
    "## **Maintenance (Known Friendly):** Within the loop, we assign the first person in `people` to `person_1`, initialize an counter for indexing a second person, `i`, and initialize `person_1` as being unfriendly with the `friendliness` indicator variable set to `0`. Following these steps we enter `Loop Invariant 1` in which we have just shown is invariant. Given `Loop Invariant 1` terminates in the friendly case, `friendliness` is set to `1`, and `len(friendly) = 2`, thus the loop terminates. upon termination `person_1` and `person_2` have been sorted into `friendly` and removed from `people`, `unfriendly` remains unchanged and thus this is invariant.\n",
    "\n",
    "## **Maintenance (UnKnown Friendly):** Given `Loop Invariant 1` terminates in the unfriendly case, `friendliness` is assigned to `0`, `friendly` has a length of `0`, and `person_1` is both added to `unfriendly` and removed from `people`. At this point the invariant holds and the next person in `people` is checked for friendliness in an iterative manner.  \n",
    "\n",
    "## **Termination (Known Friendly):** This termination is a special case of maintenance shown to be invariant above. Due to the nature of the meetup function this termination guarantees that all sorted people have been correctly sorted.  \n",
    "\n",
    "## **Termination (Unknown Friendly):** Given continuous maintenance in the unknown friendly case, termination will happen when `people` becomes empty, all people are sorted as `unfriendly`, and none are sorted as `friendly`. Under these conditions the loop is invariant, and termination results in the final answer, of which is possibly incorrect.\n",
    "\n",
    "## **Note:** After each iteration of this loop, in the case of a known friendly, `2` additional people are sorted, and in the case of the unknown friendly `1` person is sorted. The answer which is possibly incorrect contains all people sorted into `unfriendly`, although it is possibly one person is truly friendly, due to the limitations of the meetup function it is impossible to determine the correctness in this situation.\n",
    "\n",
    "----"
   ]
  },
  {
   "attachments": {},
   "cell_type": "markdown",
   "metadata": {},
   "source": [
    "# `Loop Invariant 3` : lines 28-33 : `while` loop.\n",
    "\n",
    "## At the start of each iteration of the `while` loop from lines 28-33, `people` contains all unsorted people, `unfriendly` contains all sorted unfriendly people, and `friendly` contains all sorted friendly people.\n",
    "\n",
    "## **Initialization (Known Friendly):** Starting from `n = num_people = len(people) >= 2` with `Loop Invariant 2` terminating in the known friendly case, we have a list `people` of at most `n-2` unsorted people, a list `unfriendly` with at most `n-2` people, and a list `friendly` containing `2` people. Here the invariant holds prior to the first iteration of the loop.\n",
    "\n",
    "## **Initialization (UnKnown Friendly):** Otherwise if `Loop Invariant 2` teminated in the unknown friendly case, we have a list `unfriendly` containing all people, and empty lists `people` and `friendly`. Here the invariant holds prior to the first iteration of the loop.\n",
    "\n",
    "## **Maintenance (Known Friendly):** Within the loop, we assign the first person in `people` to `person`, while removing them from `people`. We check if the person gets along with a known friendly person. If they get alone, we add `person` to the list `friendly`, if they do not get along, we add `person` to the list `unfriendly`. In both cases upon exiting the loop and entering the next iteration, `people` contains `1` less person, and that `person` has been correctly sorted into `friendly` or `unfriendly`.\n",
    "\n",
    "## **Maintenance (UnKnown Friendly):** Given `Loop Invariant 2` terminates in the unfriendly case, `people` is empty and this loop does not execute, the invariant holds as it does in the initialization case. \n",
    "\n",
    "## **Termination (Known Friendly):** This termination happens when `people` has been depleted and all people are sorted. Under this condition `friendly` contains at least `2` people and `unfriendly` contains no more than `n-2` people, the termination is invariant and due to the nature of the meetup function we are guaranteed that all sorted people have been correctly sorted.  \n",
    "\n",
    "## **Termination (Unknown Friendly):** Given `Loop Invariant 2` terminates in the unfriendly case, `people` is empty and this loop does not execute, the invariant holds as it does in the initialization case. Only in this case is it impossible to know the correctness of the solutions. Our invariant holds but there may be 1 person sorted as unfriendly who is actually friendly. \n",
    "\n",
    "----"
   ]
  },
  {
   "attachments": {},
   "cell_type": "markdown",
   "metadata": {},
   "source": [
    "# `How can we guarantee our list is sorted correctly?`\n",
    "## If you would like to guarantee the list is correctly sorted, you must guarantee that either $0$, or more than $2$ people are friendly. if $0$ people are friendly, the task is precomputed and pointless. If only $1$ person is friendly, we are limited by the ability of the meetup function to detect such person as being friendly. But, if $2$ or more people are friendly, we can guarantee that all friendly and unfriendly people are correctly sorted.  \n",
    "\n",
    "## An additional way to guarantee correctness, is to create a more elaborate meetup function, which can take one person as input twice. Practically this is a friendliness function in which friendly people get along with themselves and unfriendly people do not. "
   ]
  },
  {
   "attachments": {},
   "cell_type": "markdown",
   "metadata": {},
   "source": [
    "----\n",
    "# `Time Complexity`\n",
    "\n",
    "## $ T(n) = 12 \\times \\mathcal{O}(1) + 12 \\times \\mathcal{O}(n) + 3 \\times \\mathcal{O}(n^{2}) $\n",
    "\n",
    "## $ T(n) = \\mathcal{O}(n^{2}) $\n",
    "----"
   ]
  },
  {
   "attachments": {},
   "cell_type": "markdown",
   "metadata": {},
   "source": [
    "# `Time Complexity: Best Case`\n",
    "\n",
    "### For this algorithm, the **best case** consists the *first two people being friendly*. Given this condition, the first `while` loop from lines 11-26 will run one time, setting two people as friendly and then breaking. \n",
    "### - This happens in $ 14 $ operations, $ \\Omega(1) $.  \n",
    "\n",
    "### The second `while` loop from lines 28-33 will run for each remaining person in `people`, setting one person as either friendly or unfriendly in each iteration.  \n",
    "### - This happen $ n-2 $ times with $3$ operations each, $ \\Omega(n) $.  \n",
    "\n",
    "### Outside of the loops, all operations happen in constant time. \n",
    "\n",
    "### We thus have **best case** run time as follows: \n",
    "## $ T(n) = \\Omega(1) + \\Omega(n) = \\Omega(n) $ \n",
    "----\n"
   ]
  },
  {
   "attachments": {},
   "cell_type": "markdown",
   "metadata": {},
   "source": [
    "# `Time Complexity: Worst Case`\n",
    "\n",
    "### The **worst case** consists of *all people being unfriendly*. Given this condition, the first `while` loop will run $ n $ times. \n",
    "### Within the loop we will always run the `for` loop until exhaustion. \n",
    "### - This happens in time $ \\mathcal{O}(n^{2}) $\n",
    "\n",
    "### Always in the **worst case**, we fail to enter the second `while` loop, and the additional assignments happen in constant time - $ \\mathcal{O}(1) $ \n",
    "\n",
    "### We thus have **worst case** run time as perviously analyzed:\n",
    "## $ T(n) = \\mathcal{O}(1) + \\mathcal{O}(n^{2}) = \\mathcal{O}(n^{2}) $ \n",
    "----"
   ]
  },
  {
   "attachments": {},
   "cell_type": "markdown",
   "metadata": {},
   "source": [
    "----\n",
    "# `Space Complexity`\n",
    "\n",
    "## $ S(n) = 23 \\times \\mathcal{O}(1) + 4 \\times \\mathcal{O}(n) $\n",
    "\n",
    "## $ S(n) = \\mathcal{O}(n) $\n",
    "----"
   ]
  },
  {
   "attachments": {},
   "cell_type": "markdown",
   "metadata": {},
   "source": [
    "# `Space Complexity: Best/Worst Case`\n",
    "\n",
    "## No matter the case, we will always return a list of size $n$, such the $n$ is the number of people we need to sort. All memory allocations other than the lists `friendly`, `unfriendly`, and the `return` are constant.\n",
    "\n",
    "## Thus, we have a tighter condition that mentioned before. \n",
    "\n",
    "## $ S(n) = \\Theta(n) $\n",
    "----"
   ]
  },
  {
   "attachments": {},
   "cell_type": "markdown",
   "metadata": {},
   "source": [
    "----\n",
    "# `Example: Best/Average/Worst Case`\n",
    "----"
   ]
  },
  {
   "cell_type": "code",
   "execution_count": 4,
   "metadata": {},
   "outputs": [
    {
     "name": "stdout",
     "output_type": "stream",
     "text": [
      "person, friendliness: [('p0', 1), ('p1', 1), ('p2', 1), ('p3', 1), ('p4', 1)]\n",
      "meetup map: {('p0', 'p1'): 1, ('p0', 'p2'): 1, ('p0', 'p3'): 1, ('p0', 'p4'): 1, ('p1', 'p2'): 1, ('p1', 'p3'): 1, ('p1', 'p4'): 1, ('p2', 'p3'): 1, ('p2', 'p4'): 1, ('p3', 'p4'): 1}\n",
      "\n",
      " Sorting:\n"
     ]
    },
    {
     "data": {
      "text/plain": [
       "['p0', 'p1', 'p2', 'p3', 'p4']"
      ]
     },
     "execution_count": 4,
     "metadata": {},
     "output_type": "execute_result"
    }
   ],
   "source": [
    "friendly_sort(num_people=5, case='best')"
   ]
  },
  {
   "cell_type": "code",
   "execution_count": 5,
   "metadata": {},
   "outputs": [
    {
     "name": "stdout",
     "output_type": "stream",
     "text": [
      "person, friendliness: [('p0', 1), ('p1', 0), ('p2', 0), ('p3', 1), ('p4', 0)]\n",
      "meetup map: {('p0', 'p1'): 0, ('p0', 'p2'): 0, ('p0', 'p3'): 1, ('p0', 'p4'): 0, ('p1', 'p2'): 0, ('p1', 'p3'): 0, ('p1', 'p4'): 0, ('p2', 'p3'): 0, ('p2', 'p4'): 0, ('p3', 'p4'): 0}\n",
      "\n",
      " Sorting:\n"
     ]
    },
    {
     "data": {
      "text/plain": [
       "['p1', 'p2', 'p4', 'p0', 'p3']"
      ]
     },
     "execution_count": 5,
     "metadata": {},
     "output_type": "execute_result"
    }
   ],
   "source": [
    "friendly_sort(num_people=5, case='average')"
   ]
  },
  {
   "cell_type": "code",
   "execution_count": 6,
   "metadata": {},
   "outputs": [
    {
     "name": "stdout",
     "output_type": "stream",
     "text": [
      "person, friendliness: [('p0', 0), ('p1', 0), ('p2', 0), ('p3', 0), ('p4', 0)]\n",
      "meetup map: {('p0', 'p1'): 0, ('p0', 'p2'): 0, ('p0', 'p3'): 0, ('p0', 'p4'): 0, ('p1', 'p2'): 0, ('p1', 'p3'): 0, ('p1', 'p4'): 0, ('p2', 'p3'): 0, ('p2', 'p4'): 0, ('p3', 'p4'): 0}\n",
      "\n",
      " Sorting:\n"
     ]
    },
    {
     "data": {
      "text/plain": [
       "['p0', 'p1', 'p2', 'p3', 'p4']"
      ]
     },
     "execution_count": 6,
     "metadata": {},
     "output_type": "execute_result"
    }
   ],
   "source": [
    "friendly_sort(num_people=5, case='worst')"
   ]
  },
  {
   "cell_type": "code",
   "execution_count": 4,
   "metadata": {},
   "outputs": [],
   "source": [
    "def initalize_printless(num_people, case):\n",
    "    people = ['p{}'.format(n) for n in range(0,num_people)]\n",
    "    if case == 'best':\n",
    "        friendliness = [1,1] + [np.random.randint(2) for n in range(2,num_people)]\n",
    "    if case == 'average':\n",
    "        friendliness = [np.random.randint(2) for n in range(0,num_people)]\n",
    "    if case == 'worst':\n",
    "        friendliness = [0 for n in range(0,num_people)]\n",
    "    meetup = {}\n",
    "    for i in range(0, len(people)):\n",
    "        for j in range(i+1, len(people)):\n",
    "            meetup[people[i], people[j]] = (friendliness[i] & friendliness[j])\n",
    "    return people, meetup\n",
    "def friendly_sort_printless(num_people=25000, case='best'):\n",
    "    if num_people <= 0:                           \n",
    "        return []                                 \n",
    "    people, meetup = initalize_printless(num_people, case)  \n",
    "    if num_people == 1:                           \n",
    "        return people                             \n",
    "    unfriendly = []                               \n",
    "    friendly = []                                 \n",
    "    while ((len(friendly) < 1)):                  \n",
    "        person_1 = people.pop(0)                  \n",
    "        friendliness = 0                          \n",
    "        i = 0                                     \n",
    "        for person_2 in people:                   \n",
    "            if meetup[person_1, person_2]:        \n",
    "                friendly += [person_1]            \n",
    "                friendly += [person_2]            \n",
    "                people.pop(i)                     \n",
    "                friendliness = 1                  \n",
    "                break                             \n",
    "            i += 1                                \n",
    "        if not friendliness:                      \n",
    "            unfriendly += [person_1]              \n",
    "        if len(people) == 0:                      \n",
    "            break                                 \n",
    "    while len(people) > 0:                        \n",
    "        person = people.pop(0)                    \n",
    "        if meetup[friendly[0], person]:           \n",
    "            friendly += [person]                  \n",
    "        else:                                     \n",
    "            unfriendly += [person]                \n",
    "    return unfriendly + friendly                  \n",
    "                                                   "
   ]
  },
  {
   "cell_type": "code",
   "execution_count": 14,
   "metadata": {},
   "outputs": [
    {
     "name": "stdout",
     "output_type": "stream",
     "text": [
      "27 s ± 1.24 s per loop (mean ± std. dev. of 7 runs, 1 loop each)\n"
     ]
    }
   ],
   "source": [
    "%timeit friendly_sort_printless(num_people=11111, case='best')"
   ]
  },
  {
   "cell_type": "code",
   "execution_count": 15,
   "metadata": {},
   "outputs": [
    {
     "name": "stdout",
     "output_type": "stream",
     "text": [
      "31.6 s ± 1.56 s per loop (mean ± std. dev. of 7 runs, 1 loop each)\n"
     ]
    }
   ],
   "source": [
    "%timeit friendly_sort_printless(num_people=11111, case='average')"
   ]
  },
  {
   "cell_type": "code",
   "execution_count": 5,
   "metadata": {},
   "outputs": [
    {
     "name": "stdout",
     "output_type": "stream",
     "text": [
      "40.1 s ± 1.08 s per loop (mean ± std. dev. of 7 runs, 1 loop each)\n"
     ]
    }
   ],
   "source": [
    "%timeit friendly_sort_printless(num_people=11111, case='worst')"
   ]
  },
  {
   "cell_type": "code",
   "execution_count": 6,
   "metadata": {},
   "outputs": [],
   "source": [
    "import time"
   ]
  },
  {
   "cell_type": "code",
   "execution_count": 8,
   "metadata": {},
   "outputs": [],
   "source": [
    "def friendly_sort_illustration(num_people, case):  \n",
    "    print('num_people:', num_people, '& case:', case)      \n",
    "    time.sleep(2.5)      \n",
    "    if num_people <= 0:                           \n",
    "        return []                                 \n",
    "    people, meetup = initalize(num_people, case)  \n",
    "    time.sleep(5.5)\n",
    "    if num_people == 1:                           \n",
    "        return people       \n",
    "    print('people is:', people)\n",
    "    time.sleep(3.5)\n",
    "    print()\n",
    "    unfriendly = []        \n",
    "    print('unfriendly initialized')     \n",
    "    print('unfriendly is:', unfriendly) \n",
    "    time.sleep(3.5)            \n",
    "    print()     \n",
    "    friendly = []                                 \n",
    "    print('friendly initialized')    \n",
    "    print('friendly is:', friendly)\n",
    "    time.sleep(3.5)          \n",
    "    print()           \n",
    "    while ((len(friendly) < 1)):                  \n",
    "        person_1 = people.pop(0)    \n",
    "        print('person_1 set to:', person_1)     \n",
    "        print('people is:', people) \n",
    "        time.sleep(4.5)          \n",
    "        friendliness = 0                   \n",
    "        print('friendliness set to:', friendliness)   \n",
    "        time.sleep(2.5)      \n",
    "        i = 0                                   \n",
    "        print('i set to:', i)  \n",
    "        time.sleep(2.5)  \n",
    "        print()\n",
    "        print('entering for loop')\n",
    "        time.sleep(1.5)\n",
    "        for person_2 in people:   \n",
    "            print('person_2 is:', person_2)  \n",
    "            time.sleep(2.5)              \n",
    "            print()\n",
    "            if meetup[person_1, person_2]:     \n",
    "                print('meetup[person_1, person_2] == True')   \n",
    "                friendly += [person_1]        \n",
    "                print('person_1 added to friendly')\n",
    "                print('friendly is:', friendly)    \n",
    "                time.sleep(4.5)\n",
    "                friendly += [person_2]        \n",
    "                print('person_2 added to friendly')   \n",
    "                print('friendly is:', friendly) \n",
    "                time.sleep(4.5)\n",
    "                people.pop(i)           \n",
    "                print('person_1 removed from people')    \n",
    "                print('people is:', people)      \n",
    "                time.sleep(4.5)\n",
    "                friendliness = 1        \n",
    "                print('friendliness set to:', friendliness)    \n",
    "                print('escaping for loop')        \n",
    "                time.sleep(2.5)\n",
    "                print()\n",
    "                break         \n",
    "            print('meetup[person_1, person_2] == False')                      \n",
    "            i += 1               \n",
    "            print('i incremented to:', i)                  \n",
    "            time.sleep(2.5)\n",
    "            print()\n",
    "        print('exiting for loop')\n",
    "        time.sleep(1)\n",
    "        print()\n",
    "        if not friendliness:                      \n",
    "            unfriendly += [person_1]         \n",
    "            print('person_1 added to unfriendly')    \n",
    "            print('unfriendly is:', unfriendly)\n",
    "            time.sleep(4.5) \n",
    "            print()\n",
    "        if len(people) == 0:               \n",
    "            \n",
    "            break            \n",
    "    print('escaping 1st while loop')       \n",
    "    time.sleep(2.5)                    \n",
    "    print()\n",
    "    print('entering 2nd while loop')  \n",
    "    while len(people) > 0:                          \n",
    "        person = people.pop(0)       \n",
    "        print('person set to:', person)       \n",
    "        print('people is:', people)       \n",
    "        time.sleep(4.5)      \n",
    "        print()\n",
    "        if meetup[friendly[0], person]:           \n",
    "            friendly += [person]         \n",
    "            print('person added to friendly')    \n",
    "            print('friendly is:', friendly)   \n",
    "            time.sleep(3.5)  \n",
    "            print()\n",
    "        else:                                     \n",
    "            unfriendly += [person]  \n",
    "            print('person added to unfriendly')    \n",
    "            print('unfriendly is:', unfriendly)\n",
    "            time.sleep(3.5)\n",
    "            print()\n",
    "    print('escaping 2nd while loop') \n",
    "    print()           \n",
    "    print('\\n Sorting:')                          \n",
    "    return unfriendly + friendly                  \n",
    "                                                   "
   ]
  },
  {
   "cell_type": "code",
   "execution_count": 9,
   "metadata": {},
   "outputs": [
    {
     "name": "stdout",
     "output_type": "stream",
     "text": [
      "num_people: 5 & case: best\n",
      "person, friendliness: [('p0', 1), ('p1', 1), ('p2', 1), ('p3', 0), ('p4', 1)]\n",
      "meetup map: {('p0', 'p1'): 1, ('p0', 'p2'): 1, ('p0', 'p3'): 0, ('p0', 'p4'): 1, ('p1', 'p2'): 1, ('p1', 'p3'): 0, ('p1', 'p4'): 1, ('p2', 'p3'): 0, ('p2', 'p4'): 1, ('p3', 'p4'): 0}\n",
      "people is: ['p0', 'p1', 'p2', 'p3', 'p4']\n",
      "\n",
      "unfriendly initialized\n",
      "unfriendly is: []\n",
      "\n",
      "friendly initialized\n",
      "friendly is: []\n",
      "\n",
      "person_1 set to: p0\n",
      "people is: ['p1', 'p2', 'p3', 'p4']\n",
      "friendliness set to: 0\n",
      "i set to: 0\n",
      "\n",
      "entering for loop\n",
      "person_2 is: p1\n",
      "\n",
      "meetup[person_1, person_2] == True\n",
      "person_1 added to friendly\n",
      "friendly is: ['p0']\n",
      "person_2 added to friendly\n",
      "friendly is: ['p0', 'p1']\n",
      "person_1 removed from people\n",
      "people is: ['p2', 'p3', 'p4']\n",
      "friendliness set to: 1\n",
      "escaping for loop\n",
      "\n",
      "exiting for loop\n",
      "\n",
      "person set to: p2\n",
      "people is: ['p3', 'p4']\n",
      "\n",
      "person added to friendly\n",
      "friendly is: ['p0', 'p1', 'p2']\n",
      "\n",
      "person set to: p3\n",
      "people is: ['p4']\n",
      "\n",
      "person added to unfriendly\n",
      "unfriendly is: ['p3']\n",
      "\n",
      "person set to: p4\n",
      "people is: []\n",
      "\n",
      "person added to friendly\n",
      "friendly is: ['p0', 'p1', 'p2', 'p4']\n",
      "\n",
      "escaping 2nd while loop\n",
      "\n",
      "\n",
      " Sorting:\n"
     ]
    },
    {
     "data": {
      "text/plain": [
       "['p3', 'p0', 'p1', 'p2', 'p4']"
      ]
     },
     "execution_count": 9,
     "metadata": {},
     "output_type": "execute_result"
    }
   ],
   "source": [
    "friendly_sort_illustration(num_people=5, case='best')"
   ]
  },
  {
   "cell_type": "code",
   "execution_count": null,
   "metadata": {},
   "outputs": [],
   "source": [
    "friendly_sort_illustration(num_people=5, case='average')"
   ]
  },
  {
   "cell_type": "code",
   "execution_count": 10,
   "metadata": {},
   "outputs": [
    {
     "name": "stdout",
     "output_type": "stream",
     "text": [
      "num_people: 5 & case: worst\n",
      "person, friendliness: [('p0', 0), ('p1', 0), ('p2', 0), ('p3', 0), ('p4', 0)]\n",
      "meetup map: {('p0', 'p1'): 0, ('p0', 'p2'): 0, ('p0', 'p3'): 0, ('p0', 'p4'): 0, ('p1', 'p2'): 0, ('p1', 'p3'): 0, ('p1', 'p4'): 0, ('p2', 'p3'): 0, ('p2', 'p4'): 0, ('p3', 'p4'): 0}\n",
      "people is: ['p0', 'p1', 'p2', 'p3', 'p4']\n",
      "\n",
      "unfriendly initialized\n",
      "unfriendly is: []\n",
      "\n",
      "friendly initialized\n",
      "friendly is: []\n",
      "\n",
      "person_1 set to: p0\n",
      "people is: ['p1', 'p2', 'p3', 'p4']\n",
      "friendliness set to: 0\n",
      "i set to: 0\n",
      "\n",
      "entering for loop\n",
      "person_2 is: p1\n",
      "\n",
      "meetup[person_1, person_2] == True\n",
      "i incremented to: 1\n",
      "\n",
      "person_2 is: p2\n",
      "\n",
      "meetup[person_1, person_2] == True\n",
      "i incremented to: 2\n",
      "\n",
      "person_2 is: p3\n",
      "\n",
      "meetup[person_1, person_2] == True\n",
      "i incremented to: 3\n",
      "\n",
      "person_2 is: p4\n",
      "\n",
      "meetup[person_1, person_2] == True\n",
      "i incremented to: 4\n",
      "\n",
      "exiting for loop\n",
      "\n",
      "person_1 added to unfriendly\n",
      "unfriendly is: ['p0']\n",
      "\n",
      "person_1 set to: p1\n",
      "people is: ['p2', 'p3', 'p4']\n",
      "friendliness set to: 0\n",
      "i set to: 0\n",
      "\n",
      "entering for loop\n",
      "person_2 is: p2\n",
      "\n",
      "meetup[person_1, person_2] == True\n",
      "i incremented to: 1\n",
      "\n",
      "person_2 is: p3\n",
      "\n",
      "meetup[person_1, person_2] == True\n",
      "i incremented to: 2\n",
      "\n",
      "person_2 is: p4\n",
      "\n",
      "meetup[person_1, person_2] == True\n",
      "i incremented to: 3\n",
      "\n",
      "exiting for loop\n",
      "\n",
      "person_1 added to unfriendly\n",
      "unfriendly is: ['p0', 'p1']\n",
      "\n",
      "person_1 set to: p2\n",
      "people is: ['p3', 'p4']\n",
      "friendliness set to: 0\n",
      "i set to: 0\n",
      "\n",
      "entering for loop\n",
      "person_2 is: p3\n",
      "\n",
      "meetup[person_1, person_2] == True\n",
      "i incremented to: 1\n",
      "\n",
      "person_2 is: p4\n",
      "\n",
      "meetup[person_1, person_2] == True\n",
      "i incremented to: 2\n",
      "\n",
      "exiting for loop\n",
      "\n",
      "person_1 added to unfriendly\n",
      "unfriendly is: ['p0', 'p1', 'p2']\n",
      "\n",
      "person_1 set to: p3\n",
      "people is: ['p4']\n",
      "friendliness set to: 0\n",
      "i set to: 0\n",
      "\n",
      "entering for loop\n",
      "person_2 is: p4\n",
      "\n",
      "meetup[person_1, person_2] == True\n",
      "i incremented to: 1\n",
      "\n",
      "exiting for loop\n",
      "\n",
      "person_1 added to unfriendly\n",
      "unfriendly is: ['p0', 'p1', 'p2', 'p3']\n",
      "\n",
      "person_1 set to: p4\n",
      "people is: []\n",
      "friendliness set to: 0\n",
      "i set to: 0\n",
      "\n",
      "entering for loop\n",
      "exiting for loop\n",
      "\n",
      "person_1 added to unfriendly\n",
      "unfriendly is: ['p0', 'p1', 'p2', 'p3', 'p4']\n",
      "\n",
      "escaping 1st while loop\n",
      "\n",
      "escaping 2nd while loop\n",
      "\n",
      "\n",
      " Sorting:\n"
     ]
    },
    {
     "data": {
      "text/plain": [
       "['p0', 'p1', 'p2', 'p3', 'p4']"
      ]
     },
     "execution_count": 10,
     "metadata": {},
     "output_type": "execute_result"
    }
   ],
   "source": [
    "friendly_sort_illustration(num_people=5, case='worst')"
   ]
  }
 ],
 "metadata": {
  "kernelspec": {
   "display_name": "Python 3",
   "language": "python",
   "name": "python3"
  },
  "language_info": {
   "codemirror_mode": {
    "name": "ipython",
    "version": 3
   },
   "file_extension": ".py",
   "mimetype": "text/x-python",
   "name": "python",
   "nbconvert_exporter": "python",
   "pygments_lexer": "ipython3",
   "version": "3.11.0 (main, Oct 24 2022, 18:26:48) [MSC v.1933 64 bit (AMD64)]"
  },
  "orig_nbformat": 4,
  "vscode": {
   "interpreter": {
    "hash": "5238573367df39f7286bb46f9ff5f08f63a01a80960060ce41e3c79b190280fa"
   }
  }
 },
 "nbformat": 4,
 "nbformat_minor": 2
}
